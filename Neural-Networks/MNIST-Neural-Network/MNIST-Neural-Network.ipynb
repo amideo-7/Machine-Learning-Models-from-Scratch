{
 "cells": [
  {
   "cell_type": "markdown",
   "id": "53d43bec",
   "metadata": {},
   "source": [
    "# MNIST-Neural Network from scratch (without using Tensorflow/Pytorch)"
   ]
  },
  {
   "cell_type": "markdown",
   "id": "87f4aa10",
   "metadata": {},
   "source": [
    "###### Importing Libraries"
   ]
  },
  {
   "cell_type": "code",
   "execution_count": 20,
   "id": "166f85f0",
   "metadata": {},
   "outputs": [],
   "source": [
    "import numpy as np\n",
    "import pandas as pd\n",
    "from matplotlib import pyplot as plt"
   ]
  },
  {
   "cell_type": "markdown",
   "id": "23f82623",
   "metadata": {},
   "source": [
    "###### Reading the data from CSV file"
   ]
  },
  {
   "cell_type": "code",
   "execution_count": 21,
   "id": "722095ea",
   "metadata": {},
   "outputs": [],
   "source": [
    "data = pd.read_csv(\"Data/train.csv\")"
   ]
  },
  {
   "cell_type": "code",
   "execution_count": 22,
   "id": "ad1c7f67",
   "metadata": {},
   "outputs": [
    {
     "data": {
      "text/html": [
       "<div>\n",
       "<style scoped>\n",
       "    .dataframe tbody tr th:only-of-type {\n",
       "        vertical-align: middle;\n",
       "    }\n",
       "\n",
       "    .dataframe tbody tr th {\n",
       "        vertical-align: top;\n",
       "    }\n",
       "\n",
       "    .dataframe thead th {\n",
       "        text-align: right;\n",
       "    }\n",
       "</style>\n",
       "<table border=\"1\" class=\"dataframe\">\n",
       "  <thead>\n",
       "    <tr style=\"text-align: right;\">\n",
       "      <th></th>\n",
       "      <th>label</th>\n",
       "      <th>pixel0</th>\n",
       "      <th>pixel1</th>\n",
       "      <th>pixel2</th>\n",
       "      <th>pixel3</th>\n",
       "      <th>pixel4</th>\n",
       "      <th>pixel5</th>\n",
       "      <th>pixel6</th>\n",
       "      <th>pixel7</th>\n",
       "      <th>pixel8</th>\n",
       "      <th>...</th>\n",
       "      <th>pixel774</th>\n",
       "      <th>pixel775</th>\n",
       "      <th>pixel776</th>\n",
       "      <th>pixel777</th>\n",
       "      <th>pixel778</th>\n",
       "      <th>pixel779</th>\n",
       "      <th>pixel780</th>\n",
       "      <th>pixel781</th>\n",
       "      <th>pixel782</th>\n",
       "      <th>pixel783</th>\n",
       "    </tr>\n",
       "  </thead>\n",
       "  <tbody>\n",
       "    <tr>\n",
       "      <th>0</th>\n",
       "      <td>1</td>\n",
       "      <td>0</td>\n",
       "      <td>0</td>\n",
       "      <td>0</td>\n",
       "      <td>0</td>\n",
       "      <td>0</td>\n",
       "      <td>0</td>\n",
       "      <td>0</td>\n",
       "      <td>0</td>\n",
       "      <td>0</td>\n",
       "      <td>...</td>\n",
       "      <td>0</td>\n",
       "      <td>0</td>\n",
       "      <td>0</td>\n",
       "      <td>0</td>\n",
       "      <td>0</td>\n",
       "      <td>0</td>\n",
       "      <td>0</td>\n",
       "      <td>0</td>\n",
       "      <td>0</td>\n",
       "      <td>0</td>\n",
       "    </tr>\n",
       "    <tr>\n",
       "      <th>1</th>\n",
       "      <td>0</td>\n",
       "      <td>0</td>\n",
       "      <td>0</td>\n",
       "      <td>0</td>\n",
       "      <td>0</td>\n",
       "      <td>0</td>\n",
       "      <td>0</td>\n",
       "      <td>0</td>\n",
       "      <td>0</td>\n",
       "      <td>0</td>\n",
       "      <td>...</td>\n",
       "      <td>0</td>\n",
       "      <td>0</td>\n",
       "      <td>0</td>\n",
       "      <td>0</td>\n",
       "      <td>0</td>\n",
       "      <td>0</td>\n",
       "      <td>0</td>\n",
       "      <td>0</td>\n",
       "      <td>0</td>\n",
       "      <td>0</td>\n",
       "    </tr>\n",
       "    <tr>\n",
       "      <th>2</th>\n",
       "      <td>1</td>\n",
       "      <td>0</td>\n",
       "      <td>0</td>\n",
       "      <td>0</td>\n",
       "      <td>0</td>\n",
       "      <td>0</td>\n",
       "      <td>0</td>\n",
       "      <td>0</td>\n",
       "      <td>0</td>\n",
       "      <td>0</td>\n",
       "      <td>...</td>\n",
       "      <td>0</td>\n",
       "      <td>0</td>\n",
       "      <td>0</td>\n",
       "      <td>0</td>\n",
       "      <td>0</td>\n",
       "      <td>0</td>\n",
       "      <td>0</td>\n",
       "      <td>0</td>\n",
       "      <td>0</td>\n",
       "      <td>0</td>\n",
       "    </tr>\n",
       "    <tr>\n",
       "      <th>3</th>\n",
       "      <td>4</td>\n",
       "      <td>0</td>\n",
       "      <td>0</td>\n",
       "      <td>0</td>\n",
       "      <td>0</td>\n",
       "      <td>0</td>\n",
       "      <td>0</td>\n",
       "      <td>0</td>\n",
       "      <td>0</td>\n",
       "      <td>0</td>\n",
       "      <td>...</td>\n",
       "      <td>0</td>\n",
       "      <td>0</td>\n",
       "      <td>0</td>\n",
       "      <td>0</td>\n",
       "      <td>0</td>\n",
       "      <td>0</td>\n",
       "      <td>0</td>\n",
       "      <td>0</td>\n",
       "      <td>0</td>\n",
       "      <td>0</td>\n",
       "    </tr>\n",
       "    <tr>\n",
       "      <th>4</th>\n",
       "      <td>0</td>\n",
       "      <td>0</td>\n",
       "      <td>0</td>\n",
       "      <td>0</td>\n",
       "      <td>0</td>\n",
       "      <td>0</td>\n",
       "      <td>0</td>\n",
       "      <td>0</td>\n",
       "      <td>0</td>\n",
       "      <td>0</td>\n",
       "      <td>...</td>\n",
       "      <td>0</td>\n",
       "      <td>0</td>\n",
       "      <td>0</td>\n",
       "      <td>0</td>\n",
       "      <td>0</td>\n",
       "      <td>0</td>\n",
       "      <td>0</td>\n",
       "      <td>0</td>\n",
       "      <td>0</td>\n",
       "      <td>0</td>\n",
       "    </tr>\n",
       "  </tbody>\n",
       "</table>\n",
       "<p>5 rows × 785 columns</p>\n",
       "</div>"
      ],
      "text/plain": [
       "   label  pixel0  pixel1  pixel2  pixel3  pixel4  pixel5  pixel6  pixel7  \\\n",
       "0      1       0       0       0       0       0       0       0       0   \n",
       "1      0       0       0       0       0       0       0       0       0   \n",
       "2      1       0       0       0       0       0       0       0       0   \n",
       "3      4       0       0       0       0       0       0       0       0   \n",
       "4      0       0       0       0       0       0       0       0       0   \n",
       "\n",
       "   pixel8  ...  pixel774  pixel775  pixel776  pixel777  pixel778  pixel779  \\\n",
       "0       0  ...         0         0         0         0         0         0   \n",
       "1       0  ...         0         0         0         0         0         0   \n",
       "2       0  ...         0         0         0         0         0         0   \n",
       "3       0  ...         0         0         0         0         0         0   \n",
       "4       0  ...         0         0         0         0         0         0   \n",
       "\n",
       "   pixel780  pixel781  pixel782  pixel783  \n",
       "0         0         0         0         0  \n",
       "1         0         0         0         0  \n",
       "2         0         0         0         0  \n",
       "3         0         0         0         0  \n",
       "4         0         0         0         0  \n",
       "\n",
       "[5 rows x 785 columns]"
      ]
     },
     "execution_count": 22,
     "metadata": {},
     "output_type": "execute_result"
    }
   ],
   "source": [
    "data.head(5)"
   ]
  },
  {
   "cell_type": "markdown",
   "id": "45efe8ad",
   "metadata": {},
   "source": [
    "###### Initializing the data"
   ]
  },
  {
   "cell_type": "code",
   "execution_count": 23,
   "id": "40c5304b",
   "metadata": {},
   "outputs": [],
   "source": [
    "data = np.array(data)\n",
    "m, n = data.shape\n",
    "np.random.shuffle(data)\n",
    "\n",
    "data_dev = data[0:1000].T\n",
    "Y_dev = data_dev[0]\n",
    "X_dev = data_dev[1:n]\n",
    "X_dev = X_dev/255\n",
    "\n",
    "data_train = data[1000:m].T\n",
    "Y_train = data_train[0]\n",
    "X_train = data_train[1:n]\n",
    "X_train = X_train/255\n",
    "_,m_train = X_train.shape"
   ]
  },
  {
   "cell_type": "code",
   "execution_count": 24,
   "id": "7805d42f",
   "metadata": {},
   "outputs": [
    {
     "data": {
      "text/plain": [
       "array([8, 2, 4, ..., 7, 0, 1], dtype=int64)"
      ]
     },
     "execution_count": 24,
     "metadata": {},
     "output_type": "execute_result"
    }
   ],
   "source": [
    "Y_train"
   ]
  },
  {
   "cell_type": "markdown",
   "id": "eb37bf66",
   "metadata": {},
   "source": [
    "###### Neural Network"
   ]
  },
  {
   "cell_type": "code",
   "execution_count": 46,
   "id": "c3ec635f",
   "metadata": {},
   "outputs": [],
   "source": [
    "def initializeParameters():\n",
    "    W1 = np.random.rand(10, 784) - 0.5\n",
    "    b1 = np.random.rand(10, 1) - 0.5\n",
    "    W2 = np.random.rand(10, 10) - 0.5\n",
    "    b2 = np.random.rand(10, 1) - 0.5\n",
    "    return W1, b1, W2, b2\n",
    "\n",
    "def ReLU(Z):\n",
    "    return np.maximum(Z, 0)\n",
    "\n",
    "def softmax(Z):\n",
    "    A = np.exp(Z) / sum(np.exp(Z))\n",
    "    return A\n",
    "\n",
    "def forwardPropagation(W1, b1, W2, b2, X):\n",
    "    Z1 = W1.dot(X) + b1\n",
    "    A1 = ReLU(Z1)\n",
    "    Z2 = W2.dot(A1) + b2\n",
    "    A2 = softmax(Z2)\n",
    "    return Z1, A1, Z2, A2\n",
    "\n",
    "def ReLUDerivative(Z):\n",
    "    return Z > 0\n",
    "\n",
    "def oneHotEncoding(Y):\n",
    "    oneHotY = np.zeros((Y.size, Y.max() + 1))\n",
    "    oneHotY[np.arange(Y.size), Y] = 1\n",
    "    oneHotY = oneHotY.T\n",
    "    return oneHotY\n",
    "\n",
    "def backPropagation(Z1, A1, Z2, A2, W1, W2, X, Y):\n",
    "    oneHotY = oneHotEncoding(Y)\n",
    "    dZ2 = A2 - oneHotY\n",
    "    dW2 = 1 / m * dZ2.dot(A1.T)\n",
    "    db2 = 1 / m * np.sum(dZ2)\n",
    "    dZ1 = W2.T.dot(dZ2) * ReLUDerivative(Z1)\n",
    "    dW1 = 1 / m * dZ1.dot(X.T)\n",
    "    db1 = 1/ m * np.sum(dZ1)\n",
    "    return dW1, db1, dW2, db2\n",
    "\n",
    "def updateParameters(W1, b1, W2, b2, dW1, db1, dW2, db2, alpha):\n",
    "    W1 = W1 - alpha * dW1\n",
    "    b1 = b1 - alpha * db1\n",
    "    W2 = W2 - alpha * dW2\n",
    "    b2 = b2 - alpha * db2\n",
    "    return W1, b1, W2, b2"
   ]
  },
  {
   "cell_type": "code",
   "execution_count": 52,
   "id": "8d14608b",
   "metadata": {},
   "outputs": [],
   "source": [
    "def getPredictions(A2):\n",
    "    return np.argmax(A2, 0)\n",
    "\n",
    "def accuracy(predictions, Y):\n",
    "    print(predictions, Y)\n",
    "    return np.sum(predictions == Y) / Y.size\n",
    "\n",
    "def gradientDescent(X, Y, alpha, iterations):\n",
    "    W1, b1, W2, b2 = initializeParameters()\n",
    "    for i in range(iterations):\n",
    "        Z1, A1, Z2, A2 = forwardPropagation(W1, b1, W2, b2, X)\n",
    "        dW1, db1, dW2, db2 = backPropagation(Z1, A1, Z2, A2, W1, W2, X, Y)\n",
    "        W1, b1, W2, b2 = updateParameters(W1, b1, W2, b2, dW1, db1, dW2, db2, alpha)\n",
    "        if i % 100 == 0:\n",
    "            print(\"Iteration: \", i)\n",
    "            predictions = getPredictions(A2)\n",
    "            print(\"Accuracy: \", accuracy(predictions, Y))\n",
    "    return W1, b1, W2, b2"
   ]
  },
  {
   "cell_type": "code",
   "execution_count": 53,
   "id": "2554a7b2",
   "metadata": {},
   "outputs": [
    {
     "name": "stdout",
     "output_type": "stream",
     "text": [
      "Iteration:  0\n",
      "[4 5 4 ... 4 7 4] [8 2 4 ... 7 0 1]\n",
      "0.09973170731707318\n",
      "Iteration:  100\n",
      "[4 2 4 ... 7 0 1] [8 2 4 ... 7 0 1]\n",
      "0.4968048780487805\n",
      "Iteration:  200\n",
      "[4 2 4 ... 7 0 1] [8 2 4 ... 7 0 1]\n",
      "0.6625609756097561\n",
      "Iteration:  300\n",
      "[4 2 4 ... 7 0 1] [8 2 4 ... 7 0 1]\n",
      "0.7240731707317073\n",
      "Iteration:  400\n",
      "[8 2 4 ... 7 0 1] [8 2 4 ... 7 0 1]\n",
      "0.7560487804878049\n",
      "Iteration:  500\n",
      "[8 2 4 ... 7 0 8] [8 2 4 ... 7 0 1]\n",
      "0.7791463414634147\n",
      "Iteration:  600\n",
      "[8 2 4 ... 7 0 8] [8 2 4 ... 7 0 1]\n",
      "0.7968048780487805\n",
      "Iteration:  700\n",
      "[8 2 4 ... 7 0 8] [8 2 4 ... 7 0 1]\n",
      "0.8123414634146342\n",
      "Iteration:  800\n",
      "[8 2 4 ... 7 0 8] [8 2 4 ... 7 0 1]\n",
      "0.8265365853658536\n",
      "Iteration:  900\n",
      "[8 2 4 ... 7 0 8] [8 2 4 ... 7 0 1]\n",
      "0.8394634146341463\n",
      "Iteration:  1000\n",
      "[8 2 4 ... 7 0 8] [8 2 4 ... 7 0 1]\n",
      "0.849390243902439\n",
      "Iteration:  1100\n",
      "[8 2 4 ... 7 0 8] [8 2 4 ... 7 0 1]\n",
      "0.8577317073170732\n",
      "Iteration:  1200\n",
      "[9 2 4 ... 7 0 8] [8 2 4 ... 7 0 1]\n",
      "0.8639756097560976\n",
      "Iteration:  1300\n",
      "[5 2 4 ... 7 0 8] [8 2 4 ... 7 0 1]\n",
      "0.8691219512195122\n",
      "Iteration:  1400\n",
      "[5 2 4 ... 7 0 8] [8 2 4 ... 7 0 1]\n",
      "0.8733658536585366\n",
      "Iteration:  1500\n",
      "[5 2 4 ... 7 0 8] [8 2 4 ... 7 0 1]\n",
      "0.8768536585365854\n",
      "Iteration:  1600\n",
      "[5 2 4 ... 7 0 8] [8 2 4 ... 7 0 1]\n",
      "0.8803414634146342\n",
      "Iteration:  1700\n",
      "[5 2 4 ... 7 0 8] [8 2 4 ... 7 0 1]\n",
      "0.8829512195121951\n",
      "Iteration:  1800\n",
      "[5 2 4 ... 7 0 8] [8 2 4 ... 7 0 1]\n",
      "0.8849756097560976\n",
      "Iteration:  1900\n",
      "[5 2 4 ... 7 0 8] [8 2 4 ... 7 0 1]\n",
      "0.8872682926829268\n",
      "Iteration:  2000\n",
      "[5 2 4 ... 7 0 8] [8 2 4 ... 7 0 1]\n",
      "0.8885609756097561\n",
      "Iteration:  2100\n",
      "[5 2 4 ... 7 0 8] [8 2 4 ... 7 0 1]\n",
      "0.8901219512195122\n",
      "Iteration:  2200\n",
      "[5 2 4 ... 7 0 8] [8 2 4 ... 7 0 1]\n",
      "0.8917560975609756\n",
      "Iteration:  2300\n",
      "[5 2 4 ... 7 0 8] [8 2 4 ... 7 0 1]\n",
      "0.8931219512195122\n",
      "Iteration:  2400\n",
      "[5 2 4 ... 7 0 8] [8 2 4 ... 7 0 1]\n",
      "0.8941707317073171\n",
      "Iteration:  2500\n",
      "[5 2 4 ... 7 0 8] [8 2 4 ... 7 0 1]\n",
      "0.8949268292682927\n",
      "Iteration:  2600\n",
      "[5 2 4 ... 7 0 8] [8 2 4 ... 7 0 1]\n",
      "0.8959756097560976\n",
      "Iteration:  2700\n",
      "[5 2 4 ... 7 0 8] [8 2 4 ... 7 0 1]\n",
      "0.896829268292683\n",
      "Iteration:  2800\n",
      "[5 2 4 ... 7 0 8] [8 2 4 ... 7 0 1]\n",
      "0.8979024390243903\n",
      "Iteration:  2900\n",
      "[5 2 4 ... 7 0 8] [8 2 4 ... 7 0 1]\n",
      "0.8988780487804878\n",
      "Iteration:  3000\n",
      "[5 2 4 ... 7 0 8] [8 2 4 ... 7 0 1]\n",
      "0.8998536585365854\n",
      "Iteration:  3100\n",
      "[5 2 4 ... 7 0 8] [8 2 4 ... 7 0 1]\n",
      "0.9007317073170732\n",
      "Iteration:  3200\n",
      "[5 2 4 ... 7 0 8] [8 2 4 ... 7 0 1]\n",
      "0.9012439024390244\n",
      "Iteration:  3300\n",
      "[5 2 4 ... 7 0 8] [8 2 4 ... 7 0 1]\n",
      "0.9020487804878049\n",
      "Iteration:  3400\n",
      "[5 2 4 ... 7 0 8] [8 2 4 ... 7 0 1]\n",
      "0.9028048780487805\n",
      "Iteration:  3500\n",
      "[5 2 4 ... 7 0 8] [8 2 4 ... 7 0 1]\n",
      "0.9034634146341464\n",
      "Iteration:  3600\n",
      "[5 2 4 ... 7 0 8] [8 2 4 ... 7 0 1]\n",
      "0.9040731707317073\n",
      "Iteration:  3700\n",
      "[5 2 4 ... 7 0 8] [8 2 4 ... 7 0 1]\n",
      "0.904609756097561\n",
      "Iteration:  3800\n",
      "[5 2 4 ... 7 0 8] [8 2 4 ... 7 0 1]\n",
      "0.9052439024390244\n",
      "Iteration:  3900\n",
      "[5 2 4 ... 7 0 8] [8 2 4 ... 7 0 1]\n",
      "0.906\n",
      "Iteration:  4000\n",
      "[5 2 4 ... 7 0 8] [8 2 4 ... 7 0 1]\n",
      "0.9066829268292683\n",
      "Iteration:  4100\n",
      "[5 2 4 ... 7 0 8] [8 2 4 ... 7 0 1]\n",
      "0.9072682926829269\n",
      "Iteration:  4200\n",
      "[5 2 4 ... 7 0 8] [8 2 4 ... 7 0 1]\n",
      "0.907829268292683\n",
      "Iteration:  4300\n",
      "[5 2 4 ... 7 0 8] [8 2 4 ... 7 0 1]\n",
      "0.9085121951219512\n",
      "Iteration:  4400\n",
      "[5 2 4 ... 7 0 8] [8 2 4 ... 7 0 1]\n",
      "0.9088048780487805\n",
      "Iteration:  4500\n",
      "[5 2 4 ... 7 0 8] [8 2 4 ... 7 0 1]\n",
      "0.909390243902439\n",
      "Iteration:  4600\n",
      "[5 2 4 ... 7 0 8] [8 2 4 ... 7 0 1]\n",
      "0.9101219512195122\n",
      "Iteration:  4700\n",
      "[5 2 4 ... 7 0 8] [8 2 4 ... 7 0 1]\n",
      "0.9105853658536586\n",
      "Iteration:  4800\n",
      "[5 2 4 ... 7 0 8] [8 2 4 ... 7 0 1]\n",
      "0.9112682926829269\n",
      "Iteration:  4900\n",
      "[5 2 4 ... 7 0 8] [8 2 4 ... 7 0 1]\n",
      "0.9118536585365854\n",
      "Iteration:  5000\n",
      "[5 2 4 ... 7 0 8] [8 2 4 ... 7 0 1]\n",
      "0.9123658536585366\n",
      "Iteration:  5100\n",
      "[5 2 4 ... 7 0 8] [8 2 4 ... 7 0 1]\n",
      "0.913\n",
      "Iteration:  5200\n",
      "[5 2 4 ... 7 0 8] [8 2 4 ... 7 0 1]\n",
      "0.9136341463414634\n",
      "Iteration:  5300\n",
      "[5 2 4 ... 7 0 8] [8 2 4 ... 7 0 1]\n",
      "0.9139512195121952\n",
      "Iteration:  5400\n",
      "[5 2 4 ... 7 0 8] [8 2 4 ... 7 0 1]\n",
      "0.9143414634146342\n",
      "Iteration:  5500\n",
      "[5 2 4 ... 7 0 8] [8 2 4 ... 7 0 1]\n",
      "0.9149512195121952\n",
      "Iteration:  5600\n",
      "[5 2 4 ... 7 0 8] [8 2 4 ... 7 0 1]\n",
      "0.9150975609756098\n",
      "Iteration:  5700\n",
      "[5 2 4 ... 7 0 5] [8 2 4 ... 7 0 1]\n",
      "0.9155853658536586\n",
      "Iteration:  5800\n",
      "[5 2 4 ... 7 0 5] [8 2 4 ... 7 0 1]\n",
      "0.9161707317073171\n",
      "Iteration:  5900\n",
      "[5 2 4 ... 7 0 5] [8 2 4 ... 7 0 1]\n",
      "0.9163658536585366\n",
      "Iteration:  6000\n",
      "[5 2 4 ... 7 0 5] [8 2 4 ... 7 0 1]\n",
      "0.9167560975609756\n",
      "Iteration:  6100\n",
      "[5 2 4 ... 7 0 5] [8 2 4 ... 7 0 1]\n",
      "0.9173170731707317\n",
      "Iteration:  6200\n",
      "[5 2 4 ... 7 0 5] [8 2 4 ... 7 0 1]\n",
      "0.9177560975609756\n",
      "Iteration:  6300\n",
      "[5 2 4 ... 7 0 5] [8 2 4 ... 7 0 1]\n",
      "0.9181951219512196\n",
      "Iteration:  6400\n",
      "[5 2 4 ... 7 0 5] [8 2 4 ... 7 0 1]\n",
      "0.9186341463414635\n",
      "Iteration:  6500\n",
      "[5 2 4 ... 7 0 5] [8 2 4 ... 7 0 1]\n",
      "0.9193658536585366\n",
      "Iteration:  6600\n",
      "[5 2 4 ... 7 0 5] [8 2 4 ... 7 0 1]\n",
      "0.9197073170731708\n",
      "Iteration:  6700\n",
      "[5 2 4 ... 7 0 5] [8 2 4 ... 7 0 1]\n",
      "0.9200731707317074\n",
      "Iteration:  6800\n",
      "[5 2 4 ... 7 0 5] [8 2 4 ... 7 0 1]\n",
      "0.9204390243902439\n",
      "Iteration:  6900\n",
      "[5 2 4 ... 7 0 5] [8 2 4 ... 7 0 1]\n",
      "0.9208536585365854\n",
      "Iteration:  7000\n",
      "[5 2 4 ... 7 0 5] [8 2 4 ... 7 0 1]\n",
      "0.9211951219512196\n",
      "Iteration:  7100\n",
      "[5 2 4 ... 7 0 5] [8 2 4 ... 7 0 1]\n",
      "0.9215365853658537\n",
      "Iteration:  7200\n",
      "[5 2 4 ... 7 0 5] [8 2 4 ... 7 0 1]\n",
      "0.922\n",
      "Iteration:  7300\n",
      "[5 2 4 ... 7 0 5] [8 2 4 ... 7 0 1]\n",
      "0.9221463414634147\n",
      "Iteration:  7400\n",
      "[5 2 4 ... 7 0 5] [8 2 4 ... 7 0 1]\n",
      "0.9223414634146342\n",
      "Iteration:  7500\n",
      "[5 2 4 ... 7 0 5] [8 2 4 ... 7 0 1]\n",
      "0.9228048780487805\n",
      "Iteration:  7600\n",
      "[5 2 4 ... 7 0 5] [8 2 4 ... 7 0 1]\n",
      "0.9231463414634147\n",
      "Iteration:  7700\n",
      "[5 2 4 ... 7 0 5] [8 2 4 ... 7 0 1]\n",
      "0.9236341463414635\n",
      "Iteration:  7800\n",
      "[5 2 4 ... 7 0 5] [8 2 4 ... 7 0 1]\n",
      "0.9237560975609757\n",
      "Iteration:  7900\n",
      "[5 2 4 ... 7 0 5] [8 2 4 ... 7 0 1]\n",
      "0.9239756097560976\n",
      "Iteration:  8000\n",
      "[5 2 4 ... 7 0 5] [8 2 4 ... 7 0 1]\n",
      "0.924219512195122\n",
      "Iteration:  8100\n",
      "[5 2 4 ... 7 0 5] [8 2 4 ... 7 0 1]\n",
      "0.9247073170731708\n",
      "Iteration:  8200\n",
      "[5 2 4 ... 7 0 5] [8 2 4 ... 7 0 1]\n",
      "0.9249024390243903\n",
      "Iteration:  8300\n",
      "[5 2 4 ... 7 0 5] [8 2 4 ... 7 0 1]\n",
      "0.9249512195121952\n",
      "Iteration:  8400\n",
      "[5 2 4 ... 7 0 8] [8 2 4 ... 7 0 1]\n",
      "0.9252439024390244\n",
      "Iteration:  8500\n",
      "[5 2 4 ... 7 0 8] [8 2 4 ... 7 0 1]\n",
      "0.9254634146341464\n",
      "Iteration:  8600\n",
      "[5 2 4 ... 7 0 8] [8 2 4 ... 7 0 1]\n",
      "0.9257560975609757\n",
      "Iteration:  8700\n",
      "[5 2 4 ... 7 0 8] [8 2 4 ... 7 0 1]\n",
      "0.9258780487804879\n",
      "Iteration:  8800\n",
      "[5 2 4 ... 7 0 8] [8 2 4 ... 7 0 1]\n",
      "0.9261951219512196\n",
      "Iteration:  8900\n",
      "[5 2 4 ... 7 0 8] [8 2 4 ... 7 0 1]\n",
      "0.9263658536585366\n",
      "Iteration:  9000\n",
      "[5 2 4 ... 7 0 8] [8 2 4 ... 7 0 1]\n",
      "0.9267804878048781\n",
      "Iteration:  9100\n",
      "[5 2 4 ... 7 0 8] [8 2 4 ... 7 0 1]\n",
      "0.9273170731707318\n",
      "Iteration:  9200\n",
      "[5 2 4 ... 7 0 8] [8 2 4 ... 7 0 1]\n",
      "0.9276585365853659\n",
      "Iteration:  9300\n",
      "[5 2 4 ... 7 0 8] [8 2 4 ... 7 0 1]\n",
      "0.9278536585365854\n",
      "Iteration:  9400\n",
      "[5 2 4 ... 7 0 8] [8 2 4 ... 7 0 1]\n",
      "0.9281463414634147\n",
      "Iteration:  9500\n",
      "[5 2 4 ... 7 0 8] [8 2 4 ... 7 0 1]\n",
      "0.9285609756097561\n",
      "Iteration:  9600\n",
      "[5 2 4 ... 7 0 8] [8 2 4 ... 7 0 1]\n",
      "0.9287804878048781\n",
      "Iteration:  9700\n",
      "[5 2 4 ... 7 0 8] [8 2 4 ... 7 0 1]\n",
      "0.9289268292682927\n",
      "Iteration:  9800\n",
      "[5 2 4 ... 7 0 8] [8 2 4 ... 7 0 1]\n",
      "0.9292926829268293\n",
      "Iteration:  9900\n",
      "[5 2 4 ... 7 0 8] [8 2 4 ... 7 0 1]\n",
      "0.9295121951219513\n",
      "Done\n"
     ]
    }
   ],
   "source": [
    "W1, b1, W2, b2 = gradientDescent(X_train, Y_train, 0.10, 000)\n",
    "print(\"Done\")"
   ]
  },
  {
   "cell_type": "code",
   "execution_count": 59,
   "id": "426fe77c",
   "metadata": {},
   "outputs": [],
   "source": [
    "def makePredictions(X, W1, b1, W2, b2):\n",
    "    _, _, _, A2 = forwardPropagation(W1, b1, W2, b2, X)\n",
    "    predictions = getPredictions(A2)\n",
    "    return predictions\n",
    "\n",
    "def testPrediction(index, W1, b1, W2, b2):\n",
    "    currentImage = X_train[:, index, None]\n",
    "    prediction = makePredictions(X_train[:, index, None], W1, b1, W2, b2)\n",
    "    label = Y_train[index]\n",
    "    print(\"Prediction: \", prediction)\n",
    "    print(\"Label: \", label)\n",
    "    \n",
    "    currentImage = currentImage.reshape((28, 28)) * 255\n",
    "    plt.gray()\n",
    "    plt.imshow(currentImage, interpolation='nearest')\n",
    "    plt.show()"
   ]
  },
  {
   "cell_type": "code",
   "execution_count": 65,
   "id": "bf0ad260",
   "metadata": {},
   "outputs": [
    {
     "name": "stdout",
     "output_type": "stream",
     "text": [
      "Prediction:  [7]\n",
      "Label:  7\n"
     ]
    },
    {
     "data": {
      "image/png": "[encoded data removed]",
      "text/plain": [
       "<Figure size 640x480 with 1 Axes>"
      ]
     },
     "metadata": {},
     "output_type": "display_data"
    },
    {
     "name": "stdout",
     "output_type": "stream",
     "text": [
      "Prediction:  [0]\n",
      "Label:  0\n"
     ]
    },
    {
     "data": {
      "image/png": "[encoded data removed]",
      "text/plain": [
       "<Figure size 640x480 with 1 Axes>"
      ]
     },
     "metadata": {},
     "output_type": "display_data"
    },
    {
     "name": "stdout",
     "output_type": "stream",
     "text": [
      "Prediction:  [2]\n",
      "Label:  2\n"
     ]
    },
    {
     "data": {
      "image/png": "[encoded data removed]",
      "text/plain": [
       "<Figure size 640x480 with 1 Axes>"
      ]
     },
     "metadata": {},
     "output_type": "display_data"
    },
    {
     "name": "stdout",
     "output_type": "stream",
     "text": [
      "Prediction:  [4]\n",
      "Label:  6\n"
     ]
    },
    {
     "data": {
      "image/png": "[encoded data removed]",
      "text/plain": [
       "<Figure size 640x480 with 1 Axes>"
      ]
     },
     "metadata": {},
     "output_type": "display_data"
    },
    {
     "name": "stdout",
     "output_type": "stream",
     "text": [
      "Prediction:  [7]\n",
      "Label:  7\n"
     ]
    },
    {
     "data": {
      "image/png": "[encoded data removed]",
      "text/plain": [
       "<Figure size 640x480 with 1 Axes>"
      ]
     },
     "metadata": {},
     "output_type": "display_data"
    },
    {
     "name": "stdout",
     "output_type": "stream",
     "text": [
      "Prediction:  [2]\n",
      "Label:  2\n"
     ]
    },
    {
     "data": {
      "image/png": "[encoded data removed]",
      "text/plain": [
       "<Figure size 640x480 with 1 Axes>"
      ]
     },
     "metadata": {},
     "output_type": "display_data"
    },
    {
     "name": "stdout",
     "output_type": "stream",
     "text": [
      "Prediction:  [1]\n",
      "Label:  1\n"
     ]
    },
    {
     "data": {
      "image/png": "[encoded data removed]",
      "text/plain": [
       "<Figure size 640x480 with 1 Axes>"
      ]
     },
     "metadata": {},
     "output_type": "display_data"
    },
    {
     "name": "stdout",
     "output_type": "stream",
     "text": [
      "Prediction:  [4]\n",
      "Label:  4\n"
     ]
    },
    {
     "data": {
      "image/png": "[encoded data removed]",
      "text/plain": [
       "<Figure size 640x480 with 1 Axes>"
      ]
     },
     "metadata": {},
     "output_type": "display_data"
    },
    {
     "name": "stdout",
     "output_type": "stream",
     "text": [
      "Prediction:  [0]\n",
      "Label:  0\n"
     ]
    },
    {
     "data": {
      "image/png": "[encoded data removed]",
      "text/plain": [
       "<Figure size 640x480 with 1 Axes>"
      ]
     },
     "metadata": {},
     "output_type": "display_data"
    },
    {
     "name": "stdout",
     "output_type": "stream",
     "text": [
      "Prediction:  [2]\n",
      "Label:  2\n"
     ]
    },
    {
     "data": {
      "image/png": "[encoded data removed]",
      "text/plain": [
       "<Figure size 640x480 with 1 Axes>"
      ]
     },
     "metadata": {},
     "output_type": "display_data"
    }
   ],
   "source": [
    "startingIndex = 500\n",
    "numberOfPredictions = 10\n",
    "for i in range(startingIndex, startingIndex + numberOfPredictions):\n",
    "    testPrediction(i, W1, b1, W2, b2)"
   ]
  },
  {
   "cell_type": "code",
   "execution_count": 69,
   "id": "789446bd",
   "metadata": {},
   "outputs": [
    {
     "name": "stdout",
     "output_type": "stream",
     "text": [
      "[3 0 8 7 7 7 5 5 1 8 5 4 4 6 1 1 9 8 0 6 6 2 9 9 8 0 2 1 6 8 3 0 2 9 2 5 9\n",
      " 2 9 8 0 8 2 5 8 4 5 5 4 3 0 7 9 2 5 0 1 8 0 7 2 9 0 4 2 9 0 6 6 5 0 8 2 0\n",
      " 3 6 8 8 6 9 1 3 7 5 8 9 6 3 6 1 9 1 9 2 4 4 5 7 3 9 7 5 8 3 5 3 8 4 2 0 1\n",
      " 0 5 7 0 1 6 7 2 6 6 1 7 6 1 3 2 2 6 2 1 9 2 5 5 0 6 6 1 8 3 8 7 6 2 7 1 0\n",
      " 5 2 0 4 1 1 2 4 6 9 8 5 7 7 7 5 6 0 9 9 5 0 7 3 6 6 2 9 9 1 4 5 1 6 6 4 6\n",
      " 1 6 7 2 7 9 8 5 2 0 4 8 3 8 9 7 0 6 9 9 3 9 3 7 7 4 3 8 6 4 6 3 3 3 4 3 1\n",
      " 0 1 5 3 0 0 5 7 9 5 4 7 6 8 9 5 6 3 1 2 2 2 1 4 1 9 3 2 4 4 8 7 7 0 1 3 9\n",
      " 5 4 0 5 9 2 3 2 8 6 2 7 3 7 7 8 4 1 9 6 4 1 6 2 3 9 9 4 2 6 3 7 9 6 5 0 3\n",
      " 9 8 2 1 2 5 8 5 2 8 3 0 7 0 7 1 4 0 9 5 4 1 5 9 3 6 0 3 2 9 7 0 5 3 3 0 0\n",
      " 0 6 7 4 8 1 9 9 6 7 9 2 0 1 4 3 7 5 0 7 2 3 0 0 5 5 3 6 1 3 5 1 1 9 7 1 3\n",
      " 6 1 5 2 9 6 2 7 3 7 9 2 1 4 9 1 4 3 4 2 4 7 3 6 5 1 9 3 9 1 0 1 4 3 7 1 1\n",
      " 9 1 6 6 2 7 7 6 5 7 0 2 7 7 5 6 0 5 3 0 9 2 6 7 5 6 3 6 2 6 7 7 9 8 9 5 1\n",
      " 8 2 4 3 0 0 4 9 3 9 2 8 2 7 9 6 6 3 7 5 9 3 0 2 2 7 5 5 0 9 9 8 7 7 2 4 8\n",
      " 9 9 5 4 7 3 4 9 2 0 2 2 7 6 1 4 8 6 7 4 2 7 6 4 4 4 7 7 3 8 4 0 6 3 0 9 3\n",
      " 9 6 2 7 6 5 8 0 2 5 1 0 5 7 6 7 6 8 0 1 2 1 2 8 2 2 2 7 6 5 1 1 9 5 4 1 5\n",
      " 5 3 6 7 0 1 6 5 2 4 2 7 3 0 8 1 3 0 1 6 7 3 7 8 4 2 1 2 0 6 4 9 7 4 2 4 2\n",
      " 8 7 2 3 5 2 0 4 5 7 8 9 0 3 8 0 5 9 6 0 7 7 1 9 2 7 3 2 2 9 2 2 1 6 1 9 3\n",
      " 2 2 7 3 7 2 4 6 5 0 0 3 3 5 8 6 3 7 6 4 2 2 8 5 3 9 4 2 5 9 9 7 2 9 0 9 2\n",
      " 8 4 0 7 2 8 4 6 5 4 9 4 7 2 1 9 3 9 9 1 5 5 9 9 6 3 8 9 0 7 9 1 0 3 2 9 0\n",
      " 0 9 6 6 8 7 0 2 4 8 9 9 8 1 2 8 3 6 3 8 6 6 4 5 9 8 8 5 7 8 2 5 4 3 3 3 0\n",
      " 0 7 4 1 1 4 4 0 1 9 0 1 3 6 0 6 2 5 1 7 9 2 3 9 8 1 7 2 4 0 9 3 4 4 2 7 2\n",
      " 3 0 7 0 8 6 4 4 0 6 3 3 7 4 9 8 2 2 3 9 3 4 1 6 3 2 4 2 1 7 7 9 0 9 8 5 4\n",
      " 2 1 6 4 4 1 4 2 6 1 7 0 1 2 5 6 1 6 9 5 4 4 7 9 2 2 2 7 6 8 9 0 0 9 0 1 7\n",
      " 9 5 1 4 8 6 3 2 1 9 5 7 0 3 1 6 8 4 1 2 9 8 9 6 9 1 4 4 1 1 7 9 5 6 1 6 2\n",
      " 2 7 1 2 9 1 4 3 7 0 4 9 3 1 0 1 2 0 0 0 7 4 4 6 0 7 5 1 3 4 8 3 6 8 8 2 6\n",
      " 5 7 1 0 8 4 4 8 5 0 4 6 6 5 6 6 7 3 0 4 4 1 8 4 7 6 9 8 5 4 3 9 8 0 0 3 6\n",
      " 4 7 0 6 5 9 6 6 8 9 8 9 4 3 0 4 4 5 7 7 1 2 4 3 4 2 5 7 1 4 6 5 4 2 4 8 3\n",
      " 6] [3 0 8 7 7 7 5 5 1 4 5 4 4 6 1 1 9 8 0 6 6 2 9 9 8 0 2 1 6 9 3 0 2 9 2 3 9\n",
      " 2 9 8 0 8 2 5 8 4 5 5 0 3 0 7 9 2 5 0 1 8 0 7 2 9 0 4 2 9 0 6 8 5 0 8 2 0\n",
      " 3 6 5 8 6 9 1 3 7 5 2 9 6 3 6 1 9 1 9 2 6 4 5 7 3 9 7 5 8 3 5 3 8 4 2 0 1\n",
      " 0 5 7 0 1 6 7 8 6 6 1 7 6 1 3 2 2 6 2 1 5 2 5 5 0 6 6 1 8 3 8 7 6 2 7 1 0\n",
      " 5 2 0 4 1 1 2 4 6 9 8 5 7 7 7 5 6 0 9 9 5 0 7 3 6 6 2 9 3 1 4 5 1 6 6 4 6\n",
      " 1 6 5 2 7 9 8 5 2 0 4 8 3 8 9 2 0 6 9 9 3 4 3 7 7 4 3 8 6 4 6 3 3 3 4 3 1\n",
      " 0 1 5 3 0 0 5 9 9 5 4 7 6 8 9 5 6 3 1 2 3 2 2 4 1 9 3 2 4 4 8 7 7 0 1 3 9\n",
      " 5 4 0 5 4 2 3 2 8 3 2 7 8 7 7 8 4 1 9 6 4 1 6 2 3 9 9 4 2 6 3 7 9 6 5 0 3\n",
      " 9 8 2 1 2 5 8 5 2 8 3 0 7 0 7 1 4 0 9 5 4 1 3 4 3 6 0 3 2 9 7 0 9 3 3 0 0\n",
      " 0 6 7 9 8 1 9 9 6 7 8 2 0 1 4 3 7 5 0 7 2 3 0 0 5 5 3 6 1 3 5 1 1 9 7 8 3\n",
      " 6 1 5 2 9 4 2 7 3 7 9 2 1 4 9 1 4 3 4 2 4 7 3 6 5 1 9 3 7 1 0 1 4 3 7 1 1\n",
      " 9 1 6 6 2 7 7 6 5 7 0 2 7 7 5 6 0 5 3 0 9 2 6 7 5 6 3 6 2 6 7 7 9 1 9 5 1\n",
      " 8 2 4 3 0 0 4 9 3 9 2 1 2 7 9 6 6 3 7 5 4 3 0 2 2 7 3 5 0 9 9 8 7 7 2 4 1\n",
      " 9 7 5 4 7 3 4 9 2 0 2 2 7 6 1 4 8 6 7 4 7 7 6 4 4 9 7 2 3 8 4 0 6 9 0 9 3\n",
      " 9 6 3 7 2 5 8 0 2 5 1 0 5 7 6 7 6 8 0 5 2 1 2 8 2 2 2 7 6 5 1 1 9 5 4 1 5\n",
      " 5 3 6 7 0 1 6 5 2 4 2 7 3 0 4 1 3 0 1 6 7 3 7 8 4 2 1 2 0 6 4 9 7 4 2 4 2\n",
      " 8 7 2 3 5 2 0 4 5 7 8 9 0 2 8 0 5 9 6 0 7 7 1 9 2 7 3 3 2 9 2 2 1 6 1 9 3\n",
      " 2 2 7 3 7 3 9 6 5 0 0 3 3 5 8 6 3 7 6 4 3 2 8 5 3 9 4 2 5 9 9 8 2 9 0 9 2\n",
      " 8 4 0 7 2 1 4 6 5 4 9 4 7 2 1 9 3 9 9 1 5 5 9 9 6 3 8 9 0 7 9 1 0 3 2 9 0\n",
      " 0 9 6 6 8 7 0 2 4 8 9 9 8 1 2 8 3 6 3 8 6 6 9 5 9 8 8 5 7 8 2 5 4 3 3 3 0\n",
      " 0 7 4 4 6 4 4 0 8 9 0 1 3 6 0 6 2 5 1 7 7 2 3 9 8 1 7 2 4 0 9 3 4 4 2 7 2\n",
      " 5 0 7 2 8 6 4 4 0 6 3 3 7 4 9 8 3 2 3 9 3 4 1 6 3 2 4 2 1 7 7 9 0 9 8 5 4\n",
      " 2 1 6 4 4 1 4 5 6 1 7 0 1 2 5 6 1 6 9 5 4 4 7 9 2 2 2 7 6 8 9 0 0 9 0 1 7\n",
      " 9 5 1 4 8 6 3 2 1 9 5 7 0 3 1 6 8 4 1 2 9 8 9 6 9 1 4 4 1 1 7 9 5 6 1 8 2\n",
      " 2 7 4 2 9 1 4 3 7 0 4 4 3 1 0 1 5 0 0 0 7 9 4 6 0 7 5 1 3 4 7 3 6 8 8 2 6\n",
      " 5 7 1 0 8 4 4 1 5 0 4 6 6 5 6 6 7 3 0 4 4 1 5 4 7 6 9 8 5 4 9 9 8 0 0 3 6\n",
      " 4 7 0 6 5 9 6 6 8 9 8 9 4 3 0 9 4 5 7 7 1 2 4 3 4 2 5 7 1 4 6 5 4 2 4 8 3\n",
      " 6]\n",
      "Accuracy =  93.2 %\n"
     ]
    }
   ],
   "source": [
    "dev_predictions = makePredictions(X_dev, W1, b1, W2, b2)\n",
    "print(\"Accuracy = \",accuracy(dev_predictions, Y_dev)*100,\"%\")"
   ]
  },
  {
   "cell_type": "code",
   "execution_count": null,
   "id": "503af765",
   "metadata": {},
   "outputs": [],
   "source": []
  }
 ],
 "metadata": {
  "kernelspec": {
   "display_name": "Python 3 (ipykernel)",
   "language": "python",
   "name": "python3"
  },
  "language_info": {
   "codemirror_mode": {
    "name": "ipython",
    "version": 3
   },
   "file_extension": ".py",
   "mimetype": "text/x-python",
   "name": "python",
   "nbconvert_exporter": "python",
   "pygments_lexer": "ipython3",
   "version": "3.11.5"
  }
 },
 "nbformat": 4,
 "nbformat_minor": 5
}
